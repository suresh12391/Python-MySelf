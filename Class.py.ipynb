{
 "cells": [
  {
   "cell_type": "code",
   "execution_count": 17,
   "id": "000033d4",
   "metadata": {},
   "outputs": [
    {
     "name": "stdout",
     "output_type": "stream",
     "text": [
      "Doing Something...\n",
      "Doing Something...\n",
      "Testing...\n",
      "Doing Something...\n",
      "None\n"
     ]
    }
   ],
   "source": [
    "class ClassA:\n",
    "    \n",
    "    def do_something(self):\n",
    "        print(\"Doing Something...\")\n",
    "        \n",
    "    def test(self):\n",
    "        print(\"Testing...\")\n",
    "        #print(self.do_something())\n",
    "    \n",
    "    \n",
    "class ClassB(ClassA):\n",
    "    pass\n",
    "\n",
    "\n",
    "a = ClassA()\n",
    "b = ClassB()\n",
    "\n",
    "\n",
    "a.do_something();\n",
    "b.do_something();\n",
    "b.test()"
   ]
  },
  {
   "cell_type": "code",
   "execution_count": null,
   "id": "eafacfa8",
   "metadata": {},
   "outputs": [],
   "source": []
  },
  {
   "cell_type": "code",
   "execution_count": null,
   "id": "7464ff52",
   "metadata": {},
   "outputs": [],
   "source": []
  },
  {
   "cell_type": "code",
   "execution_count": null,
   "id": "9187e049",
   "metadata": {},
   "outputs": [],
   "source": []
  }
 ],
 "metadata": {
  "kernelspec": {
   "display_name": "Python 3",
   "language": "python",
   "name": "python3"
  },
  "language_info": {
   "codemirror_mode": {
    "name": "ipython",
    "version": 3
   },
   "file_extension": ".py",
   "mimetype": "text/x-python",
   "name": "python",
   "nbconvert_exporter": "python",
   "pygments_lexer": "ipython3",
   "version": "3.6.9"
  }
 },
 "nbformat": 4,
 "nbformat_minor": 5
}
